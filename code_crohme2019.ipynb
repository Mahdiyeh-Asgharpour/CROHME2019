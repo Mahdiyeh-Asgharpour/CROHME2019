{
  "cells": [
    {
      "cell_type": "code",
      "execution_count": 1,
      "metadata": {
        "colab": {
          "base_uri": "https://localhost:8080/",
          "height": 35
        },
        "id": "gaqBabKgYEBz",
        "outputId": "19e961d0-74d5-4953-903e-795e1f00913a"
      },
      "outputs": [
        {
          "output_type": "execute_result",
          "data": {
            "text/plain": [
              "'/kaggle/input/crohme2019'"
            ],
            "application/vnd.google.colaboratory.intrinsic+json": {
              "type": "string"
            }
          },
          "metadata": {},
          "execution_count": 1
        }
      ],
      "source": [
        "#download the dataset\n",
        "import kagglehub\n",
        "path = kagglehub.dataset_download(\"ntcuong2103/crohme2019\")\n",
        "path"
      ]
    },
    {
      "cell_type": "code",
      "source": [
        "# authored by me for parsing and rendering InkML handwriting data\n",
        "\n",
        "import os\n",
        "import xml.etree.ElementTree as ET\n",
        "import numpy as np\n",
        "import matplotlib.pyplot as plt\n",
        "from IPython.display import Image, display\n",
        "from glob import glob\n",
        "\n",
        "# parse an InkML file and optionally save the rendered trace image\n",
        "def parse_and_render_inkml(file_path, save_path=None):\n",
        "    \"\"\"\n",
        "    Parses an InkML (.inkml) file, extracts stroke data (traces),\n",
        "    renders it as a handwriting image using matplotlib,\n",
        "    and optionally saves the image to a file.\n",
        "    \"\"\"\n",
        "    tree = ET.parse(file_path)\n",
        "    root = tree.getroot()\n",
        "\n",
        "    traces = []\n",
        "    # extract all <trace> elements\n",
        "    for trace in root.findall(\".//{http://www.w3.org/2003/InkML}trace\"):\n",
        "        raw_points = trace.text.strip().split(',')\n",
        "        stroke = []\n",
        "        for point in raw_points:\n",
        "            coords = point.strip().split()\n",
        "            if len(coords) == 2:\n",
        "                stroke.append([float(coords[0]), float(coords[1])])\n",
        "        if stroke:\n",
        "            traces.append(np.array(stroke))\n",
        "\n",
        "    # create a figure and draw the strokes\n",
        "    fig, ax = plt.subplots()\n",
        "    for stroke in traces:\n",
        "        ax.plot(stroke[:, 0], -stroke[:, 1], linewidth=2)  # flip y-axis\n",
        "\n",
        "    ax.axis('off')\n",
        "    ax.set_aspect('equal')\n",
        "\n",
        "    # save the figure if path provided, otherwise show it\n",
        "    if save_path:\n",
        "        plt.savefig(save_path, bbox_inches='tight', pad_inches=0)\n",
        "        plt.close(fig)\n",
        "    else:\n",
        "        plt.show()\n",
        "\n",
        "# explore folder contents and count files with optional extension\n",
        "def explore_directory(dir_path, extension=None):\n",
        "    print(f\"Exploring directory: {dir_path}\\n\")\n",
        "    if not os.path.exists(dir_path):\n",
        "        print(\"Path does not exist.\")\n",
        "        return\n",
        "\n",
        "    subdirs = [d for d in os.listdir(dir_path) if os.path.isdir(os.path.join(dir_path, d))]\n",
        "    files = [f for f in os.listdir(dir_path) if os.path.isfile(os.path.join(dir_path, f))]\n",
        "\n",
        "    print(f\"Subfolders: {len(subdirs)}\")\n",
        "    for d in subdirs:\n",
        "        print(\"  └──\", d)\n",
        "\n",
        "    if extension:\n",
        "        matching = [f for f in files if f.endswith(extension)]\n",
        "        print(f\"\\n .{extension} files: {len(matching)}\")\n",
        "    else:\n",
        "        print(f\"\\n Total files: {len(files)}\")\n",
        "\n",
        "# check contents of all relevant data folders\n",
        "explore_directory(\"/kaggle/input/crohme2019/crohme2019/crohme2019/test/\", \".inkml\")\n",
        "explore_directory(\"/kaggle/input/crohme2019/crohme2019/crohme2019/train/\", \".inkml\")\n",
        "explore_directory(\"/kaggle/input/crohme2019/crohme2019/crohme2019/valid/\", \".inkml\")\n"
      ],
      "metadata": {
        "colab": {
          "base_uri": "https://localhost:8080/"
        },
        "id": "YYX3JffW1DOP",
        "outputId": "d815c9e4-43bf-4a00-a34c-73bc84f015b9"
      },
      "execution_count": 2,
      "outputs": [
        {
          "output_type": "stream",
          "name": "stdout",
          "text": [
            "Exploring directory: /kaggle/input/crohme2019/crohme2019/crohme2019/test/\n",
            "\n",
            "Subfolders: 0\n",
            "\n",
            " ..inkml files: 1199\n",
            "Exploring directory: /kaggle/input/crohme2019/crohme2019/crohme2019/train/\n",
            "\n",
            "Subfolders: 0\n",
            "\n",
            " ..inkml files: 8901\n",
            "Exploring directory: /kaggle/input/crohme2019/crohme2019/crohme2019/valid/\n",
            "\n",
            "Subfolders: 0\n",
            "\n",
            " ..inkml files: 986\n"
          ]
        }
      ]
    },
    {
      "cell_type": "code",
      "source": [
        "# parsing label file and saving structured labels to CSV\n",
        "import pandas as pd\n",
        "\n",
        "# this is the path to the ground-truth label file\n",
        "label_file_path = \"/kaggle/input/crohme2019/crohme2019_train.txt\"\n",
        "\n",
        "# list to hold parsed (file_path, label_text) pairs\n",
        "label_entries = []\n",
        "\n",
        "# read each line from the label file and split into components\n",
        "with open(label_file_path, \"r\", encoding=\"utf-8\") as f:\n",
        "    for line in f:\n",
        "        line = line.strip()\n",
        "        if line:  # skip empty lines\n",
        "            parts = line.split(maxsplit=1)  # split into path and label\n",
        "            if len(parts) == 2:\n",
        "                label_entries.append(parts)\n",
        "\n",
        "# convert parsed data into a DataFrame\n",
        "df = pd.DataFrame(label_entries, columns=[\"file_path\", \"label\"])\n",
        "\n",
        "# extract just the file name from the path (for easier matching later)\n",
        "df[\"file_name\"] = df[\"file_path\"].apply(lambda x: x.split(\"/\")[-1])\n",
        "\n",
        "# tokenize label string into list of tokens\n",
        "df[\"tokens\"] = df[\"label\"].str.split()\n",
        "\n",
        "# export the DataFrame to a CSV file for later use\n",
        "df.to_csv(\"/kaggle/working/train_labels.csv\", index=False)\n",
        "print(\" Label data saved to train_labels.csv\")"
      ],
      "metadata": {
        "id": "3ymkP804w5Gk"
      },
      "execution_count": null,
      "outputs": []
    },
    {
      "cell_type": "code",
      "source": [
        "# parsing label file and saving structured labels to CSV\n",
        "import pandas as pd\n",
        "\n",
        "# this is the path to the ground-truth label file for test set\n",
        "label_file_path = \"/content/crohme2019_test.txt\"\n",
        "\n",
        "# list to hold parsed (file_path, label_text) pairs\n",
        "label_entries = []\n",
        "\n",
        "# read each line from the label file and split into components\n",
        "with open(label_file_path, \"r\", encoding=\"utf-8\") as f:\n",
        "    for line in f:\n",
        "        line = line.strip()\n",
        "        if line:  # skip empty lines\n",
        "            parts = line.split(maxsplit=1)  # split into path and label\n",
        "            if len(parts) == 2:\n",
        "                label_entries.append(parts)\n",
        "\n",
        "# convert parsed data into a DataFrame\n",
        "df = pd.DataFrame(label_entries, columns=[\"file_path\", \"label\"])\n",
        "\n",
        "# extract just the file name from the path (for easier matching later)\n",
        "df[\"file_name\"] = df[\"file_path\"].apply(lambda x: x.split(\"/\")[-1])\n",
        "\n",
        "# tokenize label string into list of tokens\n",
        "df[\"tokens\"] = df[\"label\"].str.split()\n",
        "\n",
        "# export the DataFrame to a CSV file for later use\n",
        "df.to_csv(\"test_labels.csv\", index=False)\n",
        "print(\" Label data saved to test_labels.csv\")"
      ],
      "metadata": {
        "id": "VTLWCa3kw5oI"
      },
      "execution_count": null,
      "outputs": []
    },
    {
      "cell_type": "code",
      "source": [
        "# parsing label file and saving structured labels to CSV\n",
        "import pandas as pd\n",
        "\n",
        "# this is the path to the ground-truth label file for validation set\n",
        "label_file_path = \"/content/crohme2019_valid.txt\"\n",
        "\n",
        "# list to hold parsed (file_path, label_text) pairs\n",
        "label_entries = []\n",
        "\n",
        "# read each line from the label file and split into components\n",
        "with open(label_file_path, \"r\", encoding=\"utf-8\") as f:\n",
        "    for line in f:\n",
        "        line = line.strip()\n",
        "        if line:  # skip empty lines\n",
        "            parts = line.split(maxsplit=1)  # split into path and label\n",
        "            if len(parts) == 2:\n",
        "                label_entries.append(parts)\n",
        "\n",
        "# convert parsed data into a DataFrame\n",
        "df = pd.DataFrame(label_entries, columns=[\"file_path\", \"label\"])\n",
        "\n",
        "# extract just the file name from the path (for easier matching later)\n",
        "df[\"file_name\"] = df[\"file_path\"].apply(lambda x: x.split(\"/\")[-1])\n",
        "\n",
        "# tokenize label string into list of tokens\n",
        "df[\"tokens\"] = df[\"label\"].str.split()\n",
        "\n",
        "# export the DataFrame to a CSV file for later use\n",
        "df.to_csv(\"valid_labels.csv\", index=False)\n",
        "print(\" Label data saved to valid_labels.csv\")"
      ],
      "metadata": {
        "id": "L7AwLUVaxy_B"
      },
      "execution_count": null,
      "outputs": []
    },
    {
      "cell_type": "code",
      "source": [
        "import pandas as pd\n",
        "from collections import Counter\n",
        "import json\n",
        "\n",
        "# load the CSV file containing training labels and their tokenized math expressions\n",
        "train_df = pd.read_csv(\"/content/train_labels.csv\")\n",
        "\n",
        "# in case the token column doesn't exist, generate it from the label string\n",
        "if \"tokens\" not in train_df.columns:\n",
        "    train_df[\"tokens\"] = train_df[\"label\"].astype(str).str.split()\n",
        "\n",
        "# flatten all tokens across all samples into a single list\n",
        "# this allows us to find all unique tokens used in the training data\n",
        "all_tokens = [token for tokens in train_df[\"tokens\"] for token in tokens if isinstance(token, str)]\n",
        "\n",
        "# count frequency of each token (can be useful for analysis)\n",
        "token_counts = Counter(all_tokens)\n",
        "\n",
        "# define special tokens used by the model (padding, start/end, unknown)\n",
        "special_tokens = [\"<PAD>\", \"<SOS>\", \"<EOS>\", \"<UNK>\"]\n",
        "\n",
        "# collect all unique tokens from the dataset and sort them alphabetically\n",
        "unique_tokens = sorted(set(all_tokens))\n",
        "\n",
        "# construct the final vocabulary list: special tokens first, then all unique tokens\n",
        "vocab = special_tokens + unique_tokens\n",
        "\n",
        "# create a dictionary that maps each token to a unique integer ID\n",
        "token_to_id = {token: idx for idx, token in enumerate(vocab)}\n",
        "\n",
        "# create the reverse mapping: ID back to token (used during decoding)\n",
        "id_to_token = {idx: token for token, idx in token_to_id.items()}\n",
        "\n",
        "# export the token-to-ID mapping to a JSON file for later use during training\n",
        "with open(\"token_to_id.json\", \"w\", encoding=\"utf-8\") as f:\n",
        "    json.dump(token_to_id, f, indent=2, ensure_ascii=False)\n",
        "\n",
        "# also export the reverse mapping (optional but useful for evaluation/inference)\n",
        "with open(\"id_to_token.json\", \"w\", encoding=\"utf-8\") as f:\n",
        "    json.dump(id_to_token, f, indent=2, ensure_ascii=False)\n",
        "\n",
        "# confirmation message\n",
        "print(f\" Vocabulary saved! Total tokens: {len(vocab)}\")\n"
      ],
      "metadata": {
        "id": "xeEuId_s24ru"
      },
      "execution_count": null,
      "outputs": []
    },
    {
      "cell_type": "code",
      "source": [
        "import pandas as pd\n",
        "import json\n",
        "import os\n",
        "\n",
        "# load token-to-id mapping from previously generated vocab\n",
        "with open(\"token_to_id.json\", \"r\", encoding=\"utf-8\") as f:\n",
        "    token_to_id = json.load(f)\n",
        "\n",
        "# helper function to encode tokens using vocab (with <UNK> fallback)\n",
        "def encode_tokens(tokens, vocab):\n",
        "    return [vocab.get(token, vocab[\"<UNK>\"]) for token in tokens]\n",
        "\n",
        "# process label CSV and add encoded sequences\n",
        "def encode_label_file(csv_path):\n",
        "    if not os.path.exists(csv_path):\n",
        "        print(f\"File not found: {csv_path}\")\n",
        "        return\n",
        "\n",
        "    print(f\"Processing: {csv_path}\")\n",
        "    df = pd.read_csv(csv_path)\n",
        "\n",
        "    # tokenize if necessary\n",
        "    if \"tokens\" not in df.columns:\n",
        "        df[\"tokens\"] = df[\"label\"].astype(str).str.split()\n",
        "\n",
        "    # encode tokens to integer IDs\n",
        "    df[\"label_ids\"] = df[\"tokens\"].apply(lambda tokens: encode_tokens(tokens, token_to_id))\n",
        "    df[\"label_ids_with_sos_eos\"] = df[\"label_ids\"].apply(\n",
        "        lambda ids: [token_to_id[\"<SOS>\"]] + ids + [token_to_id[\"<EOS>\"]]\n",
        "    )\n",
        "\n",
        "    # save back to same CSV\n",
        "    df.to_csv(csv_path, index=False)\n",
        "    print(f\"Saved encoded labels to: {csv_path}\\n\")\n",
        "\n",
        "# paths to all 3 label files\n",
        "label_files = [\n",
        "    \"train_labels.csv\",\n",
        "    \"valid_labels.csv\",\n",
        "    \"test_labels.csv\"\n",
        "]\n",
        "\n",
        "# apply encoding to all label files\n",
        "for file_path in label_files:\n",
        "    encode_label_file(file_path)\n"
      ],
      "metadata": {
        "id": "yAjFFExjU9cc",
        "colab": {
          "base_uri": "https://localhost:8080/"
        },
        "outputId": "d4938b7a-45a7-4179-af12-7baa3743b121"
      },
      "execution_count": 4,
      "outputs": [
        {
          "output_type": "stream",
          "name": "stdout",
          "text": [
            "Processing: train_labels.csv\n",
            "Saved encoded labels to: train_labels.csv\n",
            "\n",
            "Processing: valid_labels.csv\n",
            "Saved encoded labels to: valid_labels.csv\n",
            "\n",
            "Processing: test_labels.csv\n",
            "Saved encoded labels to: test_labels.csv\n",
            "\n"
          ]
        }
      ]
    },
    {
      "cell_type": "code",
      "source": [
        "import os\n",
        "import cv2\n",
        "import numpy as np\n",
        "from xml.etree import ElementTree as ET\n",
        "from glob import glob\n",
        "from tqdm import tqdm\n",
        "import random\n",
        "\n",
        "# Paths\n",
        "INKML_FOLDER = \"/kaggle/input/crohme2019/crohme2019/crohme2019/train/\"\n",
        "OUTPUT_FOLDER = \"train images/\"\n",
        "os.makedirs(OUTPUT_FOLDER, exist_ok=True)\n",
        "IMG_SIZE = (128, 128)\n",
        "\n",
        "# Parse InkML file and extract list of valid strokes\n",
        "def parse_inkml_traces(file_path):\n",
        "    traces = []\n",
        "    try:\n",
        "        tree = ET.parse(file_path)\n",
        "        root = tree.getroot()\n",
        "        for trace in root.findall(\".//{http://www.w3.org/2003/InkML}trace\"):\n",
        "            raw = trace.text.strip().split(',')\n",
        "            stroke = []\n",
        "            for pt in raw:\n",
        "                coords = pt.strip().split()\n",
        "                if len(coords) == 2:\n",
        "                    stroke.append([float(coords[0]), float(coords[1])])\n",
        "            if len(stroke) >= 2:\n",
        "                traces.append(np.array(stroke))\n",
        "    except Exception as e:\n",
        "        raise ValueError(f\"Could not parse {file_path}: {e}\")\n",
        "    return traces\n",
        "\n",
        "# Render strokes onto canvas and preprocess the image\n",
        "def render_image(traces, augment=True):\n",
        "    canvas = np.ones((600, 600), dtype=np.uint8) * 255  # white background\n",
        "\n",
        "    for stroke in traces:\n",
        "        for i in range(len(stroke) - 1):\n",
        "            pt1 = tuple(map(int, stroke[i]))\n",
        "            pt2 = tuple(map(int, stroke[i + 1]))\n",
        "            cv2.line(canvas, pt1, pt2, color=0, thickness=2)\n",
        "\n",
        "    # resize whole canvas directly (no cropping)\n",
        "    resized = cv2.resize(canvas, IMG_SIZE, interpolation=cv2.INTER_AREA)\n",
        "\n",
        "    if augment:\n",
        "        angle = random.uniform(-5, 5)\n",
        "        M = cv2.getRotationMatrix2D((IMG_SIZE[1] // 2, IMG_SIZE[0] // 2), angle, 1)\n",
        "        resized = cv2.warpAffine(resized, M, IMG_SIZE, borderValue=255)\n",
        "\n",
        "    return resized.astype(np.float32) / 255.0  # normalize to [0, 1]\n",
        "\n",
        "# Process all .inkml files and render them to PNG\n",
        "inkml_files = glob(os.path.join(INKML_FOLDER, \"*.inkml\"))\n",
        "print(f\"Found {len(inkml_files)} .inkml files to process.\")\n",
        "\n",
        "failed_files = []\n",
        "\n",
        "for inkml_path in tqdm(inkml_files):\n",
        "    file_name = os.path.splitext(os.path.basename(inkml_path))[0]\n",
        "    output_path = os.path.join(OUTPUT_FOLDER, file_name + \".png\")\n",
        "\n",
        "    try:\n",
        "        traces = parse_inkml_traces(inkml_path)\n",
        "        image = render_image(traces, augment=True)\n",
        "        image_uint8 = (image * 255).astype(np.uint8)\n",
        "        cv2.imwrite(output_path, image_uint8)\n",
        "\n",
        "    except Exception as e:\n",
        "        failed_files.append(file_name)\n",
        "        print(f\"Failed to render {file_name}: {e}\")\n",
        "\n",
        "print(f\"\\n Total files that failed to render: {len(failed_files)}\")\n",
        "if failed_files:\n",
        "    print(\"Example failed files:\", failed_files[:5])\n"
      ],
      "metadata": {
        "colab": {
          "base_uri": "https://localhost:8080/"
        },
        "id": "_iTfWu3KxhY5",
        "outputId": "e4f663a8-200f-4093-c939-3c20c1327d2e"
      },
      "execution_count": 2,
      "outputs": [
        {
          "output_type": "stream",
          "name": "stdout",
          "text": [
            "Found 8901 .inkml files to process.\n"
          ]
        },
        {
          "output_type": "stream",
          "name": "stderr",
          "text": [
            " 48%|████▊     | 4261/8901 [00:38<00:42, 109.07it/s]"
          ]
        },
        {
          "output_type": "stream",
          "name": "stdout",
          "text": [
            "Failed to render MfrDB0104: Could not parse /kaggle/input/crohme2019/crohme2019/crohme2019/train/MfrDB0104.inkml: not well-formed (invalid token): line 15, column 23\n"
          ]
        },
        {
          "output_type": "stream",
          "name": "stderr",
          "text": [
            "100%|██████████| 8901/8901 [01:21<00:00, 108.98it/s]"
          ]
        },
        {
          "output_type": "stream",
          "name": "stdout",
          "text": [
            "\n",
            " Total files that failed to render: 1\n",
            "Example failed files: ['MfrDB0104']\n"
          ]
        },
        {
          "output_type": "stream",
          "name": "stderr",
          "text": [
            "\n"
          ]
        }
      ]
    },
    {
      "cell_type": "code",
      "source": [
        "import tensorflow as tf\n",
        "import pandas as pd\n",
        "import json\n",
        "import numpy as np\n",
        "import os\n",
        "\n",
        "# path to the CSV file that contains label info\n",
        "CSV_PATH = \"/content/train_labels.csv\"\n",
        "\n",
        "# path to folder where images (PNG) are stored\n",
        "IMAGE_FOLDER = \"/content/train_images/\"\n",
        "\n",
        "# path to vocab file for reading the PAD token ID\n",
        "VOCAB_FILE = \"/content/token_to_id.json\"\n",
        "\n",
        "# final input size expected by the model\n",
        "IMG_SIZE = (128, 128)\n",
        "\n",
        "# load the label CSV file\n",
        "df = pd.read_csv(CSV_PATH)\n",
        "\n",
        "# load the vocab to get the PAD token index\n",
        "with open(VOCAB_FILE, \"r\", encoding=\"utf-8\") as f:\n",
        "    token_to_id = json.load(f)\n",
        "pad_token_id = token_to_id[\"<PAD>\"]\n",
        "\n",
        "# make sure label column is present\n",
        "if \"label_ids_with_sos_eos\" not in df.columns:\n",
        "    raise ValueError(\"Missing label_ids_with_sos_eos column. Please run encoding first.\")\n",
        "\n",
        "# convert stringified list in CSV to actual list of integers\n",
        "def str_to_list(s):\n",
        "    return list(map(int, s.strip(\"[]\").split(\",\")))\n",
        "\n",
        "df[\"label_ids_with_sos_eos\"] = df[\"label_ids_with_sos_eos\"].apply(str_to_list)\n",
        "\n",
        "# determine max sequence length for padding\n",
        "max_seq_len = max(df[\"label_ids_with_sos_eos\"].apply(len))\n",
        "\n",
        "# build full paths to images and pad all label sequences\n",
        "image_paths = [os.path.join(IMAGE_FOLDER, fname.replace(\".inkml\", \".png\")) for fname in df[\"file_name\"]]\n",
        "label_seqs = [seq + [pad_token_id] * (max_seq_len - len(seq)) for seq in df[\"label_ids_with_sos_eos\"]]\n",
        "\n",
        "# create a raw TensorFlow dataset from file paths and labels\n",
        "dataset = tf.data.Dataset.from_tensor_slices((image_paths, label_seqs))\n",
        "\n",
        "# define a function that loads and preprocesses each image\n",
        "def process_sample(image_path, label_seq):\n",
        "    image = tf.io.read_file(image_path)                      # read file\n",
        "    image = tf.image.decode_png(image, channels=1)           # decode grayscale PNG\n",
        "    image = tf.image.convert_image_dtype(image, tf.float32)  # normalize to [0, 1]\n",
        "    image = tf.image.resize(image, IMG_SIZE)                 # ensure fixed size\n",
        "    return image, tf.cast(label_seq, tf.int32)\n",
        "\n",
        "# apply preprocessing to every item in the dataset\n",
        "dataset = dataset.map(process_sample, num_parallel_calls=tf.data.AUTOTUNE)\n",
        "\n",
        "# shuffle, batch, and prefetch for training\n",
        "BATCH_SIZE = 32\n",
        "train_dataset = dataset.shuffle(1000).batch(BATCH_SIZE).prefetch(tf.data.AUTOTUNE)\n"
      ],
      "metadata": {
        "id": "lLanvOZw3omf"
      },
      "execution_count": 4,
      "outputs": []
    },
    {
      "cell_type": "code",
      "source": [
        "import tensorflow as tf\n",
        "from tensorflow.keras.models import Sequential\n",
        "from tensorflow.keras.layers import Conv2D, MaxPooling2D, BatchNormalization\n",
        "from tensorflow.keras.layers import Reshape, Bidirectional, LSTM, Dense, Dropout, TimeDistributed\n",
        "\n",
        "# number of output tokens (vocab size)\n",
        "vocab_size = len(token_to_id)\n",
        "\n",
        "# define CRNN model using Sequential\n",
        "model = Sequential([\n",
        "    # extract spatial features from input image\n",
        "    Conv2D(64, (3, 3), activation='relu', padding='same', input_shape=(128, 128, 1)),\n",
        "    MaxPooling2D(pool_size=(2, 2)),\n",
        "    BatchNormalization(),\n",
        "\n",
        "    Conv2D(128, (3, 3), activation='relu', padding='same'),\n",
        "    MaxPooling2D(pool_size=(2, 2)),\n",
        "    BatchNormalization(),\n",
        "\n",
        "    Conv2D(256, (3, 3), activation='relu', padding='same'),\n",
        "    MaxPooling2D(pool_size=(2, 2)),\n",
        "    BatchNormalization(),\n",
        "\n",
        "    # reshape to (timesteps, features) format for RNN\n",
        "    Reshape((16, -1)),\n",
        "\n",
        "    # sequence modeling using bidirectional LSTM\n",
        "    Bidirectional(LSTM(128, return_sequences=True)),\n",
        "    Dropout(0.3),\n",
        "\n",
        "    # predict token for each time step\n",
        "    TimeDistributed(Dense(vocab_size, activation='softmax'))\n",
        "])\n",
        "\n",
        "# compile the model\n",
        "model.compile(\n",
        "    optimizer='adam',\n",
        "    loss='sparse_categorical_crossentropy',\n",
        "    metrics=['accuracy']\n",
        ")\n",
        "\n",
        "# print model architecture\n",
        "model.summary()\n"
      ],
      "metadata": {
        "colab": {
          "base_uri": "https://localhost:8080/",
          "height": 664
        },
        "id": "F7mppYfQGwdj",
        "outputId": "f2f22544-e97e-49d3-f407-a0d2c27ee452"
      },
      "execution_count": 5,
      "outputs": [
        {
          "output_type": "stream",
          "name": "stderr",
          "text": [
            "/usr/local/lib/python3.11/dist-packages/keras/src/layers/convolutional/base_conv.py:107: UserWarning: Do not pass an `input_shape`/`input_dim` argument to a layer. When using Sequential models, prefer using an `Input(shape)` object as the first layer in the model instead.\n",
            "  super().__init__(activity_regularizer=activity_regularizer, **kwargs)\n"
          ]
        },
        {
          "output_type": "display_data",
          "data": {
            "text/plain": [
              "\u001b[1mModel: \"sequential\"\u001b[0m\n"
            ],
            "text/html": [
              "<pre style=\"white-space:pre;overflow-x:auto;line-height:normal;font-family:Menlo,'DejaVu Sans Mono',consolas,'Courier New',monospace\"><span style=\"font-weight: bold\">Model: \"sequential\"</span>\n",
              "</pre>\n"
            ]
          },
          "metadata": {}
        },
        {
          "output_type": "display_data",
          "data": {
            "text/plain": [
              "┏━━━━━━━━━━━━━━━━━━━━━━━━━━━━━━━━━┳━━━━━━━━━━━━━━━━━━━━━━━━┳━━━━━━━━━━━━━━━┓\n",
              "┃\u001b[1m \u001b[0m\u001b[1mLayer (type)                   \u001b[0m\u001b[1m \u001b[0m┃\u001b[1m \u001b[0m\u001b[1mOutput Shape          \u001b[0m\u001b[1m \u001b[0m┃\u001b[1m \u001b[0m\u001b[1m      Param #\u001b[0m\u001b[1m \u001b[0m┃\n",
              "┡━━━━━━━━━━━━━━━━━━━━━━━━━━━━━━━━━╇━━━━━━━━━━━━━━━━━━━━━━━━╇━━━━━━━━━━━━━━━┩\n",
              "│ conv2d (\u001b[38;5;33mConv2D\u001b[0m)                 │ (\u001b[38;5;45mNone\u001b[0m, \u001b[38;5;34m128\u001b[0m, \u001b[38;5;34m128\u001b[0m, \u001b[38;5;34m64\u001b[0m)   │           \u001b[38;5;34m640\u001b[0m │\n",
              "├─────────────────────────────────┼────────────────────────┼───────────────┤\n",
              "│ max_pooling2d (\u001b[38;5;33mMaxPooling2D\u001b[0m)    │ (\u001b[38;5;45mNone\u001b[0m, \u001b[38;5;34m64\u001b[0m, \u001b[38;5;34m64\u001b[0m, \u001b[38;5;34m64\u001b[0m)     │             \u001b[38;5;34m0\u001b[0m │\n",
              "├─────────────────────────────────┼────────────────────────┼───────────────┤\n",
              "│ batch_normalization             │ (\u001b[38;5;45mNone\u001b[0m, \u001b[38;5;34m64\u001b[0m, \u001b[38;5;34m64\u001b[0m, \u001b[38;5;34m64\u001b[0m)     │           \u001b[38;5;34m256\u001b[0m │\n",
              "│ (\u001b[38;5;33mBatchNormalization\u001b[0m)            │                        │               │\n",
              "├─────────────────────────────────┼────────────────────────┼───────────────┤\n",
              "│ conv2d_1 (\u001b[38;5;33mConv2D\u001b[0m)               │ (\u001b[38;5;45mNone\u001b[0m, \u001b[38;5;34m64\u001b[0m, \u001b[38;5;34m64\u001b[0m, \u001b[38;5;34m128\u001b[0m)    │        \u001b[38;5;34m73,856\u001b[0m │\n",
              "├─────────────────────────────────┼────────────────────────┼───────────────┤\n",
              "│ max_pooling2d_1 (\u001b[38;5;33mMaxPooling2D\u001b[0m)  │ (\u001b[38;5;45mNone\u001b[0m, \u001b[38;5;34m32\u001b[0m, \u001b[38;5;34m32\u001b[0m, \u001b[38;5;34m128\u001b[0m)    │             \u001b[38;5;34m0\u001b[0m │\n",
              "├─────────────────────────────────┼────────────────────────┼───────────────┤\n",
              "│ batch_normalization_1           │ (\u001b[38;5;45mNone\u001b[0m, \u001b[38;5;34m32\u001b[0m, \u001b[38;5;34m32\u001b[0m, \u001b[38;5;34m128\u001b[0m)    │           \u001b[38;5;34m512\u001b[0m │\n",
              "│ (\u001b[38;5;33mBatchNormalization\u001b[0m)            │                        │               │\n",
              "├─────────────────────────────────┼────────────────────────┼───────────────┤\n",
              "│ conv2d_2 (\u001b[38;5;33mConv2D\u001b[0m)               │ (\u001b[38;5;45mNone\u001b[0m, \u001b[38;5;34m32\u001b[0m, \u001b[38;5;34m32\u001b[0m, \u001b[38;5;34m256\u001b[0m)    │       \u001b[38;5;34m295,168\u001b[0m │\n",
              "├─────────────────────────────────┼────────────────────────┼───────────────┤\n",
              "│ max_pooling2d_2 (\u001b[38;5;33mMaxPooling2D\u001b[0m)  │ (\u001b[38;5;45mNone\u001b[0m, \u001b[38;5;34m16\u001b[0m, \u001b[38;5;34m16\u001b[0m, \u001b[38;5;34m256\u001b[0m)    │             \u001b[38;5;34m0\u001b[0m │\n",
              "├─────────────────────────────────┼────────────────────────┼───────────────┤\n",
              "│ batch_normalization_2           │ (\u001b[38;5;45mNone\u001b[0m, \u001b[38;5;34m16\u001b[0m, \u001b[38;5;34m16\u001b[0m, \u001b[38;5;34m256\u001b[0m)    │         \u001b[38;5;34m1,024\u001b[0m │\n",
              "│ (\u001b[38;5;33mBatchNormalization\u001b[0m)            │                        │               │\n",
              "├─────────────────────────────────┼────────────────────────┼───────────────┤\n",
              "│ reshape (\u001b[38;5;33mReshape\u001b[0m)               │ (\u001b[38;5;45mNone\u001b[0m, \u001b[38;5;34m16\u001b[0m, \u001b[38;5;34m4096\u001b[0m)       │             \u001b[38;5;34m0\u001b[0m │\n",
              "├─────────────────────────────────┼────────────────────────┼───────────────┤\n",
              "│ bidirectional (\u001b[38;5;33mBidirectional\u001b[0m)   │ (\u001b[38;5;45mNone\u001b[0m, \u001b[38;5;34m16\u001b[0m, \u001b[38;5;34m256\u001b[0m)        │     \u001b[38;5;34m4,326,400\u001b[0m │\n",
              "├─────────────────────────────────┼────────────────────────┼───────────────┤\n",
              "│ dropout (\u001b[38;5;33mDropout\u001b[0m)               │ (\u001b[38;5;45mNone\u001b[0m, \u001b[38;5;34m16\u001b[0m, \u001b[38;5;34m256\u001b[0m)        │             \u001b[38;5;34m0\u001b[0m │\n",
              "├─────────────────────────────────┼────────────────────────┼───────────────┤\n",
              "│ time_distributed                │ (\u001b[38;5;45mNone\u001b[0m, \u001b[38;5;34m16\u001b[0m, \u001b[38;5;34m77\u001b[0m)         │        \u001b[38;5;34m19,789\u001b[0m │\n",
              "│ (\u001b[38;5;33mTimeDistributed\u001b[0m)               │                        │               │\n",
              "└─────────────────────────────────┴────────────────────────┴───────────────┘\n"
            ],
            "text/html": [
              "<pre style=\"white-space:pre;overflow-x:auto;line-height:normal;font-family:Menlo,'DejaVu Sans Mono',consolas,'Courier New',monospace\">┏━━━━━━━━━━━━━━━━━━━━━━━━━━━━━━━━━┳━━━━━━━━━━━━━━━━━━━━━━━━┳━━━━━━━━━━━━━━━┓\n",
              "┃<span style=\"font-weight: bold\"> Layer (type)                    </span>┃<span style=\"font-weight: bold\"> Output Shape           </span>┃<span style=\"font-weight: bold\">       Param # </span>┃\n",
              "┡━━━━━━━━━━━━━━━━━━━━━━━━━━━━━━━━━╇━━━━━━━━━━━━━━━━━━━━━━━━╇━━━━━━━━━━━━━━━┩\n",
              "│ conv2d (<span style=\"color: #0087ff; text-decoration-color: #0087ff\">Conv2D</span>)                 │ (<span style=\"color: #00d7ff; text-decoration-color: #00d7ff\">None</span>, <span style=\"color: #00af00; text-decoration-color: #00af00\">128</span>, <span style=\"color: #00af00; text-decoration-color: #00af00\">128</span>, <span style=\"color: #00af00; text-decoration-color: #00af00\">64</span>)   │           <span style=\"color: #00af00; text-decoration-color: #00af00\">640</span> │\n",
              "├─────────────────────────────────┼────────────────────────┼───────────────┤\n",
              "│ max_pooling2d (<span style=\"color: #0087ff; text-decoration-color: #0087ff\">MaxPooling2D</span>)    │ (<span style=\"color: #00d7ff; text-decoration-color: #00d7ff\">None</span>, <span style=\"color: #00af00; text-decoration-color: #00af00\">64</span>, <span style=\"color: #00af00; text-decoration-color: #00af00\">64</span>, <span style=\"color: #00af00; text-decoration-color: #00af00\">64</span>)     │             <span style=\"color: #00af00; text-decoration-color: #00af00\">0</span> │\n",
              "├─────────────────────────────────┼────────────────────────┼───────────────┤\n",
              "│ batch_normalization             │ (<span style=\"color: #00d7ff; text-decoration-color: #00d7ff\">None</span>, <span style=\"color: #00af00; text-decoration-color: #00af00\">64</span>, <span style=\"color: #00af00; text-decoration-color: #00af00\">64</span>, <span style=\"color: #00af00; text-decoration-color: #00af00\">64</span>)     │           <span style=\"color: #00af00; text-decoration-color: #00af00\">256</span> │\n",
              "│ (<span style=\"color: #0087ff; text-decoration-color: #0087ff\">BatchNormalization</span>)            │                        │               │\n",
              "├─────────────────────────────────┼────────────────────────┼───────────────┤\n",
              "│ conv2d_1 (<span style=\"color: #0087ff; text-decoration-color: #0087ff\">Conv2D</span>)               │ (<span style=\"color: #00d7ff; text-decoration-color: #00d7ff\">None</span>, <span style=\"color: #00af00; text-decoration-color: #00af00\">64</span>, <span style=\"color: #00af00; text-decoration-color: #00af00\">64</span>, <span style=\"color: #00af00; text-decoration-color: #00af00\">128</span>)    │        <span style=\"color: #00af00; text-decoration-color: #00af00\">73,856</span> │\n",
              "├─────────────────────────────────┼────────────────────────┼───────────────┤\n",
              "│ max_pooling2d_1 (<span style=\"color: #0087ff; text-decoration-color: #0087ff\">MaxPooling2D</span>)  │ (<span style=\"color: #00d7ff; text-decoration-color: #00d7ff\">None</span>, <span style=\"color: #00af00; text-decoration-color: #00af00\">32</span>, <span style=\"color: #00af00; text-decoration-color: #00af00\">32</span>, <span style=\"color: #00af00; text-decoration-color: #00af00\">128</span>)    │             <span style=\"color: #00af00; text-decoration-color: #00af00\">0</span> │\n",
              "├─────────────────────────────────┼────────────────────────┼───────────────┤\n",
              "│ batch_normalization_1           │ (<span style=\"color: #00d7ff; text-decoration-color: #00d7ff\">None</span>, <span style=\"color: #00af00; text-decoration-color: #00af00\">32</span>, <span style=\"color: #00af00; text-decoration-color: #00af00\">32</span>, <span style=\"color: #00af00; text-decoration-color: #00af00\">128</span>)    │           <span style=\"color: #00af00; text-decoration-color: #00af00\">512</span> │\n",
              "│ (<span style=\"color: #0087ff; text-decoration-color: #0087ff\">BatchNormalization</span>)            │                        │               │\n",
              "├─────────────────────────────────┼────────────────────────┼───────────────┤\n",
              "│ conv2d_2 (<span style=\"color: #0087ff; text-decoration-color: #0087ff\">Conv2D</span>)               │ (<span style=\"color: #00d7ff; text-decoration-color: #00d7ff\">None</span>, <span style=\"color: #00af00; text-decoration-color: #00af00\">32</span>, <span style=\"color: #00af00; text-decoration-color: #00af00\">32</span>, <span style=\"color: #00af00; text-decoration-color: #00af00\">256</span>)    │       <span style=\"color: #00af00; text-decoration-color: #00af00\">295,168</span> │\n",
              "├─────────────────────────────────┼────────────────────────┼───────────────┤\n",
              "│ max_pooling2d_2 (<span style=\"color: #0087ff; text-decoration-color: #0087ff\">MaxPooling2D</span>)  │ (<span style=\"color: #00d7ff; text-decoration-color: #00d7ff\">None</span>, <span style=\"color: #00af00; text-decoration-color: #00af00\">16</span>, <span style=\"color: #00af00; text-decoration-color: #00af00\">16</span>, <span style=\"color: #00af00; text-decoration-color: #00af00\">256</span>)    │             <span style=\"color: #00af00; text-decoration-color: #00af00\">0</span> │\n",
              "├─────────────────────────────────┼────────────────────────┼───────────────┤\n",
              "│ batch_normalization_2           │ (<span style=\"color: #00d7ff; text-decoration-color: #00d7ff\">None</span>, <span style=\"color: #00af00; text-decoration-color: #00af00\">16</span>, <span style=\"color: #00af00; text-decoration-color: #00af00\">16</span>, <span style=\"color: #00af00; text-decoration-color: #00af00\">256</span>)    │         <span style=\"color: #00af00; text-decoration-color: #00af00\">1,024</span> │\n",
              "│ (<span style=\"color: #0087ff; text-decoration-color: #0087ff\">BatchNormalization</span>)            │                        │               │\n",
              "├─────────────────────────────────┼────────────────────────┼───────────────┤\n",
              "│ reshape (<span style=\"color: #0087ff; text-decoration-color: #0087ff\">Reshape</span>)               │ (<span style=\"color: #00d7ff; text-decoration-color: #00d7ff\">None</span>, <span style=\"color: #00af00; text-decoration-color: #00af00\">16</span>, <span style=\"color: #00af00; text-decoration-color: #00af00\">4096</span>)       │             <span style=\"color: #00af00; text-decoration-color: #00af00\">0</span> │\n",
              "├─────────────────────────────────┼────────────────────────┼───────────────┤\n",
              "│ bidirectional (<span style=\"color: #0087ff; text-decoration-color: #0087ff\">Bidirectional</span>)   │ (<span style=\"color: #00d7ff; text-decoration-color: #00d7ff\">None</span>, <span style=\"color: #00af00; text-decoration-color: #00af00\">16</span>, <span style=\"color: #00af00; text-decoration-color: #00af00\">256</span>)        │     <span style=\"color: #00af00; text-decoration-color: #00af00\">4,326,400</span> │\n",
              "├─────────────────────────────────┼────────────────────────┼───────────────┤\n",
              "│ dropout (<span style=\"color: #0087ff; text-decoration-color: #0087ff\">Dropout</span>)               │ (<span style=\"color: #00d7ff; text-decoration-color: #00d7ff\">None</span>, <span style=\"color: #00af00; text-decoration-color: #00af00\">16</span>, <span style=\"color: #00af00; text-decoration-color: #00af00\">256</span>)        │             <span style=\"color: #00af00; text-decoration-color: #00af00\">0</span> │\n",
              "├─────────────────────────────────┼────────────────────────┼───────────────┤\n",
              "│ time_distributed                │ (<span style=\"color: #00d7ff; text-decoration-color: #00d7ff\">None</span>, <span style=\"color: #00af00; text-decoration-color: #00af00\">16</span>, <span style=\"color: #00af00; text-decoration-color: #00af00\">77</span>)         │        <span style=\"color: #00af00; text-decoration-color: #00af00\">19,789</span> │\n",
              "│ (<span style=\"color: #0087ff; text-decoration-color: #0087ff\">TimeDistributed</span>)               │                        │               │\n",
              "└─────────────────────────────────┴────────────────────────┴───────────────┘\n",
              "</pre>\n"
            ]
          },
          "metadata": {}
        },
        {
          "output_type": "display_data",
          "data": {
            "text/plain": [
              "\u001b[1m Total params: \u001b[0m\u001b[38;5;34m4,717,645\u001b[0m (18.00 MB)\n"
            ],
            "text/html": [
              "<pre style=\"white-space:pre;overflow-x:auto;line-height:normal;font-family:Menlo,'DejaVu Sans Mono',consolas,'Courier New',monospace\"><span style=\"font-weight: bold\"> Total params: </span><span style=\"color: #00af00; text-decoration-color: #00af00\">4,717,645</span> (18.00 MB)\n",
              "</pre>\n"
            ]
          },
          "metadata": {}
        },
        {
          "output_type": "display_data",
          "data": {
            "text/plain": [
              "\u001b[1m Trainable params: \u001b[0m\u001b[38;5;34m4,716,749\u001b[0m (17.99 MB)\n"
            ],
            "text/html": [
              "<pre style=\"white-space:pre;overflow-x:auto;line-height:normal;font-family:Menlo,'DejaVu Sans Mono',consolas,'Courier New',monospace\"><span style=\"font-weight: bold\"> Trainable params: </span><span style=\"color: #00af00; text-decoration-color: #00af00\">4,716,749</span> (17.99 MB)\n",
              "</pre>\n"
            ]
          },
          "metadata": {}
        },
        {
          "output_type": "display_data",
          "data": {
            "text/plain": [
              "\u001b[1m Non-trainable params: \u001b[0m\u001b[38;5;34m896\u001b[0m (3.50 KB)\n"
            ],
            "text/html": [
              "<pre style=\"white-space:pre;overflow-x:auto;line-height:normal;font-family:Menlo,'DejaVu Sans Mono',consolas,'Courier New',monospace\"><span style=\"font-weight: bold\"> Non-trainable params: </span><span style=\"color: #00af00; text-decoration-color: #00af00\">896</span> (3.50 KB)\n",
              "</pre>\n"
            ]
          },
          "metadata": {}
        }
      ]
    },
    {
      "cell_type": "code",
      "source": [
        "import os\n",
        "import cv2\n",
        "import numpy as np\n",
        "from xml.etree import ElementTree as ET\n",
        "from glob import glob\n",
        "from tqdm import tqdm\n",
        "import random\n",
        "\n",
        "# Paths\n",
        "INKML_FOLDER = \"/kaggle/input/crohme2019/crohme2019/crohme2019/valid/\"\n",
        "OUTPUT_FOLDER = \"valid images/\"\n",
        "os.makedirs(OUTPUT_FOLDER, exist_ok=True)\n",
        "IMG_SIZE = (128, 128)\n",
        "\n",
        "# Parse InkML file and extract list of valid strokes\n",
        "def parse_inkml_traces(file_path):\n",
        "    traces = []\n",
        "    try:\n",
        "        tree = ET.parse(file_path)\n",
        "        root = tree.getroot()\n",
        "        for trace in root.findall(\".//{http://www.w3.org/2003/InkML}trace\"):\n",
        "            raw = trace.text.strip().split(',')\n",
        "            stroke = []\n",
        "            for pt in raw:\n",
        "                coords = pt.strip().split()\n",
        "                if len(coords) == 2:\n",
        "                    stroke.append([float(coords[0]), float(coords[1])])\n",
        "            if len(stroke) >= 2:\n",
        "                traces.append(np.array(stroke))\n",
        "    except Exception as e:\n",
        "        raise ValueError(f\"Could not parse {file_path}: {e}\")\n",
        "    return traces\n",
        "\n",
        "# Render strokes onto canvas and preprocess the image\n",
        "def render_image(traces, augment=True):\n",
        "    canvas = np.ones((600, 600), dtype=np.uint8) * 255  # white background\n",
        "\n",
        "    for stroke in traces:\n",
        "        for i in range(len(stroke) - 1):\n",
        "            pt1 = tuple(map(int, stroke[i]))\n",
        "            pt2 = tuple(map(int, stroke[i + 1]))\n",
        "            cv2.line(canvas, pt1, pt2, color=0, thickness=2)\n",
        "\n",
        "    # resize whole canvas directly (no cropping)\n",
        "    resized = cv2.resize(canvas, IMG_SIZE, interpolation=cv2.INTER_AREA)\n",
        "\n",
        "    if augment:\n",
        "        angle = random.uniform(-5, 5)\n",
        "        M = cv2.getRotationMatrix2D((IMG_SIZE[1] // 2, IMG_SIZE[0] // 2), angle, 1)\n",
        "        resized = cv2.warpAffine(resized, M, IMG_SIZE, borderValue=255)\n",
        "\n",
        "    return resized.astype(np.float32) / 255.0  # normalize to [0, 1]\n",
        "\n",
        "# Process all .inkml files and render them to PNG\n",
        "inkml_files = glob(os.path.join(INKML_FOLDER, \"*.inkml\"))\n",
        "print(f\"Found {len(inkml_files)} .inkml files to process.\")\n",
        "\n",
        "failed_files = []\n",
        "\n",
        "for inkml_path in tqdm(inkml_files):\n",
        "    file_name = os.path.splitext(os.path.basename(inkml_path))[0]\n",
        "    output_path = os.path.join(OUTPUT_FOLDER, file_name + \".png\")\n",
        "\n",
        "    try:\n",
        "        traces = parse_inkml_traces(inkml_path)\n",
        "        image = render_image(traces, augment=True)\n",
        "        image_uint8 = (image * 255).astype(np.uint8)\n",
        "        cv2.imwrite(output_path, image_uint8)\n",
        "\n",
        "    except Exception as e:\n",
        "        failed_files.append(file_name)\n",
        "        print(f\"Failed to render {file_name}: {e}\")\n",
        "\n",
        "print(f\"\\n Total files that failed to render: {len(failed_files)}\")\n",
        "if failed_files:\n",
        "    print(\"Example failed files:\", failed_files[:5])\n"
      ],
      "metadata": {
        "colab": {
          "base_uri": "https://localhost:8080/"
        },
        "id": "vtyvAUIa5Uyq",
        "outputId": "4e8293c1-2107-4a73-faca-13f4c5dd5914"
      },
      "execution_count": 6,
      "outputs": [
        {
          "output_type": "stream",
          "name": "stdout",
          "text": [
            "Found 986 .inkml files to process.\n"
          ]
        },
        {
          "output_type": "stream",
          "name": "stderr",
          "text": [
            "100%|██████████| 986/986 [00:10<00:00, 92.34it/s]"
          ]
        },
        {
          "output_type": "stream",
          "name": "stdout",
          "text": [
            "\n",
            " Total files that failed to render: 0\n"
          ]
        },
        {
          "output_type": "stream",
          "name": "stderr",
          "text": [
            "\n"
          ]
        }
      ]
    },
    {
      "cell_type": "code",
      "source": [
        "import tensorflow as tf\n",
        "import pandas as pd\n",
        "import json\n",
        "import numpy as np\n",
        "import os\n",
        "\n",
        "# path to validation label CSV and images\n",
        "CSV_PATH = \"/content/valid_labels.csv\"\n",
        "IMAGE_FOLDER = \"/content/valid images/\"  # make sure you rendered validation images here\n",
        "VOCAB_FILE = \"/content/token_to_id.json\"\n",
        "IMG_SIZE = (128, 128)\n",
        "\n",
        "# load validation labels\n",
        "df = pd.read_csv(CSV_PATH)\n",
        "\n",
        "# load vocab to get PAD token id\n",
        "with open(VOCAB_FILE, \"r\", encoding=\"utf-8\") as f:\n",
        "    token_to_id = json.load(f)\n",
        "pad_token_id = token_to_id[\"<PAD>\"]\n",
        "\n",
        "# convert stringified list back to list of ints\n",
        "def str_to_list(s):\n",
        "    return list(map(int, s.strip(\"[]\").split(\",\")))\n",
        "\n",
        "df[\"label_ids_with_sos_eos\"] = df[\"label_ids_with_sos_eos\"].apply(str_to_list)\n",
        "\n",
        "# get max sequence length for padding (can reuse from training)\n",
        "max_seq_len = max(df[\"label_ids_with_sos_eos\"].apply(len))\n",
        "\n",
        "# build full image paths and pad label sequences\n",
        "image_paths = [os.path.join(IMAGE_FOLDER, fname.replace(\".inkml\", \".png\")) for fname in df[\"file_name\"]]\n",
        "label_seqs = [seq + [pad_token_id] * (max_seq_len - len(seq)) for seq in df[\"label_ids_with_sos_eos\"]]\n",
        "\n",
        "# build tf.data.Dataset\n",
        "valid_dataset = tf.data.Dataset.from_tensor_slices((image_paths, label_seqs))\n",
        "\n",
        "# function to load image and preprocess\n",
        "def process_sample(image_path, label_seq):\n",
        "    image = tf.io.read_file(image_path)\n",
        "    image = tf.image.decode_png(image, channels=1)\n",
        "    image = tf.image.convert_image_dtype(image, tf.float32)\n",
        "    image = tf.image.resize(image, IMG_SIZE)\n",
        "    return image, tf.cast(label_seq, tf.int32)\n",
        "\n",
        "# apply map, batch, prefetch\n",
        "valid_dataset = valid_dataset.map(process_sample, num_parallel_calls=tf.data.AUTOTUNE)\n",
        "valid_dataset = valid_dataset.batch(32).prefetch(tf.data.AUTOTUNE)\n"
      ],
      "metadata": {
        "id": "XnNUKJTX4oa1"
      },
      "execution_count": 7,
      "outputs": []
    },
    {
      "cell_type": "code",
      "source": [
        "import tensorflow as tf\n",
        "import pandas as pd\n",
        "import json\n",
        "import numpy as np\n",
        "import os\n",
        "\n",
        "CSV_PATH = \"/content/train_labels.csv\"\n",
        "IMAGE_FOLDER = \"/content/train images/\"\n",
        "VOCAB_FILE = \"/content/token_to_id.json\"\n",
        "IMG_SIZE = (128, 128)\n",
        "MAX_SEQ_LEN = 16  # must match model output time steps\n",
        "\n",
        "# load token_to_id\n",
        "with open(VOCAB_FILE, \"r\", encoding=\"utf-8\") as f:\n",
        "    token_to_id = json.load(f)\n",
        "pad_token_id = token_to_id[\"<PAD>\"]\n",
        "\n",
        "# read CSV and convert label strings to list[int]\n",
        "df = pd.read_csv(CSV_PATH)\n",
        "df[\"label_ids_with_sos_eos\"] = df[\"label_ids_with_sos_eos\"].apply(\n",
        "    lambda s: list(map(int, s.strip(\"[]\").split(\",\")))\n",
        ")\n",
        "\n",
        "# truncate or pad label sequences to MAX_SEQ_LEN\n",
        "df[\"label_truncated\"] = df[\"label_ids_with_sos_eos\"].apply(\n",
        "    lambda x: x[:MAX_SEQ_LEN] + [pad_token_id] * max(0, MAX_SEQ_LEN - len(x))\n",
        ")\n",
        "\n",
        "# build image paths and final labels\n",
        "image_paths = [os.path.join(IMAGE_FOLDER, fname.replace(\".inkml\", \".png\")) for fname in df[\"file_name\"]]\n",
        "label_seqs = list(df[\"label_truncated\"])\n",
        "\n",
        "# build tf.data.Dataset\n",
        "train_dataset = tf.data.Dataset.from_tensor_slices((image_paths, label_seqs))\n",
        "\n",
        "# function to load and preprocess images\n",
        "def process_sample(image_path, label_seq):\n",
        "    image = tf.io.read_file(image_path)\n",
        "    image = tf.image.decode_png(image, channels=1)\n",
        "    image = tf.image.convert_image_dtype(image, tf.float32)\n",
        "    image = tf.image.resize(image, IMG_SIZE)\n",
        "    return image, tf.cast(label_seq, tf.int32)\n",
        "\n",
        "# apply preprocessing\n",
        "train_dataset = train_dataset.map(process_sample, num_parallel_calls=tf.data.AUTOTUNE)\n",
        "train_dataset = train_dataset.shuffle(1000).batch(32).prefetch(tf.data.AUTOTUNE)\n"
      ],
      "metadata": {
        "id": "BU930ZCM7PJ3"
      },
      "execution_count": 8,
      "outputs": []
    },
    {
      "cell_type": "code",
      "source": [
        "import tensorflow as tf\n",
        "import pandas as pd\n",
        "import json\n",
        "import numpy as np\n",
        "import os\n",
        "\n",
        "# path to validation labels and images\n",
        "CSV_PATH = \"/content/valid_labels.csv\"\n",
        "IMAGE_FOLDER = \"/content/valid images/\"\n",
        "VOCAB_FILE = \"/content/token_to_id.json\"\n",
        "IMG_SIZE = (128, 128)\n",
        "MAX_SEQ_LEN = 16  # must match model output time steps\n",
        "\n",
        "# load token_to_id\n",
        "with open(VOCAB_FILE, \"r\", encoding=\"utf-8\") as f:\n",
        "    token_to_id = json.load(f)\n",
        "pad_token_id = token_to_id[\"<PAD>\"]\n",
        "\n",
        "# read CSV and convert label strings to list[int]\n",
        "df = pd.read_csv(CSV_PATH)\n",
        "df[\"label_ids_with_sos_eos\"] = df[\"label_ids_with_sos_eos\"].apply(\n",
        "    lambda s: list(map(int, s.strip(\"[]\").split(\",\")))\n",
        ")\n",
        "\n",
        "# truncate or pad label sequences to MAX_SEQ_LEN\n",
        "df[\"label_truncated\"] = df[\"label_ids_with_sos_eos\"].apply(\n",
        "    lambda x: x[:MAX_SEQ_LEN] + [pad_token_id] * max(0, MAX_SEQ_LEN - len(x))\n",
        ")\n",
        "\n",
        "# build image paths and final labels\n",
        "image_paths = [os.path.join(IMAGE_FOLDER, fname.replace(\".inkml\", \".png\")) for fname in df[\"file_name\"]]\n",
        "label_seqs = list(df[\"label_truncated\"])\n",
        "\n",
        "# build tf.data.Dataset for validation\n",
        "valid_dataset = tf.data.Dataset.from_tensor_slices((image_paths, label_seqs))\n",
        "\n",
        "# function to load and preprocess images\n",
        "def process_sample(image_path, label_seq):\n",
        "    image = tf.io.read_file(image_path)\n",
        "    image = tf.image.decode_png(image, channels=1)\n",
        "    image = tf.image.convert_image_dtype(image, tf.float32)\n",
        "    image = tf.image.resize(image, IMG_SIZE)\n",
        "    return image, tf.cast(label_seq, tf.int32)\n",
        "\n",
        "# apply preprocessing\n",
        "valid_dataset = valid_dataset.map(process_sample, num_parallel_calls=tf.data.AUTOTUNE)\n",
        "valid_dataset = valid_dataset.batch(32).prefetch(tf.data.AUTOTUNE)\n"
      ],
      "metadata": {
        "id": "8PSRl43f7XIF"
      },
      "execution_count": 9,
      "outputs": []
    },
    {
      "cell_type": "code",
      "source": [
        "from tensorflow.keras.callbacks import EarlyStopping, ModelCheckpoint\n",
        "\n",
        "# path to save the best model during training\n",
        "checkpoint_path = \"best_crnn_model.h5\"\n",
        "\n",
        "# define callbacks: save best weights + stop early if no improvement\n",
        "callbacks = [\n",
        "    ModelCheckpoint(\n",
        "        filepath=checkpoint_path,\n",
        "        monitor=\"val_loss\",\n",
        "        save_best_only=True,\n",
        "        verbose=1\n",
        "    ),\n",
        "    EarlyStopping(\n",
        "        monitor=\"val_loss\",\n",
        "        patience=5,\n",
        "        restore_best_weights=True,\n",
        "        verbose=1\n",
        "    )\n",
        "]\n",
        "\n",
        "# train the model using train and validation datasets\n",
        "history = model.fit(\n",
        "    train_dataset,             # training data (image, label)\n",
        "    validation_data=valid_dataset,  # validation set to monitor overfitting\n",
        "    epochs=50,                 # max number of training epochs\n",
        "    callbacks=callbacks        # use early stopping and checkpointing\n",
        ")\n"
      ],
      "metadata": {
        "id": "9TD6DqCSH0jE",
        "colab": {
          "base_uri": "https://localhost:8080/"
        },
        "outputId": "5633a60f-356c-4466-ab78-9e3bc6e5fee3"
      },
      "execution_count": 10,
      "outputs": [
        {
          "output_type": "stream",
          "name": "stdout",
          "text": [
            "Epoch 1/50\n",
            "\u001b[1m279/279\u001b[0m \u001b[32m━━━━━━━━━━━━━━━━━━━━\u001b[0m\u001b[37m\u001b[0m \u001b[1m0s\u001b[0m 58ms/step - accuracy: 0.3779 - loss: 2.4834\n",
            "Epoch 1: val_loss improved from inf to 3.51783, saving model to best_crnn_model.h5\n"
          ]
        },
        {
          "output_type": "stream",
          "name": "stderr",
          "text": [
            "WARNING:absl:You are saving your model as an HDF5 file via `model.save()` or `keras.saving.save_model(model)`. This file format is considered legacy. We recommend using instead the native Keras format, e.g. `model.save('my_model.keras')` or `keras.saving.save_model(model, 'my_model.keras')`. \n"
          ]
        },
        {
          "output_type": "stream",
          "name": "stdout",
          "text": [
            "\b\b\b\b\b\b\b\b\b\b\b\b\b\b\b\b\b\b\b\b\b\b\b\b\b\b\b\b\b\b\b\b\b\b\b\b\b\b\b\b\b\b\b\b\b\b\b\b\b\b\b\b\b\b\b\b\b\b\b\b\b\b\b\b\b\b\b\b\b\b\b\b\b\b\b\r\u001b[1m279/279\u001b[0m \u001b[32m━━━━━━━━━━━━━━━━━━━━\u001b[0m\u001b[37m\u001b[0m \u001b[1m28s\u001b[0m 63ms/step - accuracy: 0.3780 - loss: 2.4825 - val_accuracy: 0.2438 - val_loss: 3.5178\n",
            "Epoch 2/50\n",
            "\u001b[1m278/279\u001b[0m \u001b[32m━━━━━━━━━━━━━━━━━━━\u001b[0m\u001b[37m━\u001b[0m \u001b[1m0s\u001b[0m 57ms/step - accuracy: 0.5286 - loss: 1.7965\n",
            "Epoch 2: val_loss did not improve from 3.51783\n",
            "\u001b[1m279/279\u001b[0m \u001b[32m━━━━━━━━━━━━━━━━━━━━\u001b[0m\u001b[37m\u001b[0m \u001b[1m17s\u001b[0m 59ms/step - accuracy: 0.5289 - loss: 1.7954 - val_accuracy: 0.1573 - val_loss: 4.6496\n",
            "Epoch 3/50\n",
            "\u001b[1m278/279\u001b[0m \u001b[32m━━━━━━━━━━━━━━━━━━━\u001b[0m\u001b[37m━\u001b[0m \u001b[1m0s\u001b[0m 57ms/step - accuracy: 0.6105 - loss: 1.4108\n",
            "Epoch 3: val_loss improved from 3.51783 to 1.72936, saving model to best_crnn_model.h5\n"
          ]
        },
        {
          "output_type": "stream",
          "name": "stderr",
          "text": [
            "WARNING:absl:You are saving your model as an HDF5 file via `model.save()` or `keras.saving.save_model(model)`. This file format is considered legacy. We recommend using instead the native Keras format, e.g. `model.save('my_model.keras')` or `keras.saving.save_model(model, 'my_model.keras')`. \n"
          ]
        },
        {
          "output_type": "stream",
          "name": "stdout",
          "text": [
            "\b\b\b\b\b\b\b\b\b\b\b\b\b\b\b\b\b\b\b\b\b\b\b\b\b\b\b\b\b\b\b\b\b\b\b\b\b\b\b\b\b\b\b\b\b\b\b\b\b\b\b\b\b\b\b\b\b\b\b\b\b\b\b\b\b\b\b\b\b\b\b\b\b\b\b\r\u001b[1m279/279\u001b[0m \u001b[32m━━━━━━━━━━━━━━━━━━━━\u001b[0m\u001b[37m\u001b[0m \u001b[1m17s\u001b[0m 60ms/step - accuracy: 0.6105 - loss: 1.4107 - val_accuracy: 0.5126 - val_loss: 1.7294\n",
            "Epoch 4/50\n",
            "\u001b[1m278/279\u001b[0m \u001b[32m━━━━━━━━━━━━━━━━━━━\u001b[0m\u001b[37m━\u001b[0m \u001b[1m0s\u001b[0m 58ms/step - accuracy: 0.6106 - loss: 1.3646\n",
            "Epoch 4: val_loss did not improve from 1.72936\n",
            "\u001b[1m279/279\u001b[0m \u001b[32m━━━━━━━━━━━━━━━━━━━━\u001b[0m\u001b[37m\u001b[0m \u001b[1m17s\u001b[0m 59ms/step - accuracy: 0.6106 - loss: 1.3646 - val_accuracy: 0.5057 - val_loss: 1.8721\n",
            "Epoch 5/50\n",
            "\u001b[1m278/279\u001b[0m \u001b[32m━━━━━━━━━━━━━━━━━━━\u001b[0m\u001b[37m━\u001b[0m \u001b[1m0s\u001b[0m 57ms/step - accuracy: 0.6074 - loss: 1.3603\n",
            "Epoch 5: val_loss did not improve from 1.72936\n",
            "\u001b[1m279/279\u001b[0m \u001b[32m━━━━━━━━━━━━━━━━━━━━\u001b[0m\u001b[37m\u001b[0m \u001b[1m17s\u001b[0m 59ms/step - accuracy: 0.6075 - loss: 1.3602 - val_accuracy: 0.0625 - val_loss: 4.8527\n",
            "Epoch 6/50\n",
            "\u001b[1m278/279\u001b[0m \u001b[32m━━━━━━━━━━━━━━━━━━━\u001b[0m\u001b[37m━\u001b[0m \u001b[1m0s\u001b[0m 57ms/step - accuracy: 0.6121 - loss: 1.3431\n",
            "Epoch 6: val_loss did not improve from 1.72936\n",
            "\u001b[1m279/279\u001b[0m \u001b[32m━━━━━━━━━━━━━━━━━━━━\u001b[0m\u001b[37m\u001b[0m \u001b[1m17s\u001b[0m 59ms/step - accuracy: 0.6121 - loss: 1.3430 - val_accuracy: 0.4013 - val_loss: 2.2257\n",
            "Epoch 7/50\n",
            "\u001b[1m278/279\u001b[0m \u001b[32m━━━━━━━━━━━━━━━━━━━\u001b[0m\u001b[37m━\u001b[0m \u001b[1m0s\u001b[0m 58ms/step - accuracy: 0.6117 - loss: 1.3255\n",
            "Epoch 7: val_loss did not improve from 1.72936\n",
            "\u001b[1m279/279\u001b[0m \u001b[32m━━━━━━━━━━━━━━━━━━━━\u001b[0m\u001b[37m\u001b[0m \u001b[1m21s\u001b[0m 60ms/step - accuracy: 0.6117 - loss: 1.3254 - val_accuracy: 0.3997 - val_loss: 2.6802\n",
            "Epoch 8/50\n",
            "\u001b[1m278/279\u001b[0m \u001b[32m━━━━━━━━━━━━━━━━━━━\u001b[0m\u001b[37m━\u001b[0m \u001b[1m0s\u001b[0m 58ms/step - accuracy: 0.6159 - loss: 1.3059\n",
            "Epoch 8: val_loss did not improve from 1.72936\n",
            "\u001b[1m279/279\u001b[0m \u001b[32m━━━━━━━━━━━━━━━━━━━━\u001b[0m\u001b[37m\u001b[0m \u001b[1m17s\u001b[0m 59ms/step - accuracy: 0.6159 - loss: 1.3059 - val_accuracy: 0.2181 - val_loss: 3.1910\n",
            "Epoch 8: early stopping\n",
            "Restoring model weights from the end of the best epoch: 3.\n"
          ]
        }
      ]
    },
    {
      "cell_type": "code",
      "source": [
        "import tensorflow as tf\n",
        "import numpy as np\n",
        "import matplotlib.pyplot as plt\n",
        "import json\n",
        "import os\n",
        "\n",
        "# make sure model and valid_dataset already exist\n",
        "# make sure you have 'id_to_token.json' for decoding\n",
        "\n",
        "# load the best model weights\n",
        "model.load_weights(\"best_crnn_model.h5\")\n",
        "\n",
        "# evaluate model on validation set\n",
        "val_loss, val_acc = model.evaluate(valid_dataset)\n",
        "print(f\"Validation loss: {val_loss:.4f} | accuracy: {val_acc:.4f}\")\n"
      ],
      "metadata": {
        "colab": {
          "base_uri": "https://localhost:8080/"
        },
        "id": "pGhwhbh2_BmZ",
        "outputId": "93d59557-9970-4ca0-dd74-cfe06fd93b49"
      },
      "execution_count": 12,
      "outputs": [
        {
          "output_type": "stream",
          "name": "stdout",
          "text": [
            "\u001b[1m31/31\u001b[0m \u001b[32m━━━━━━━━━━━━━━━━━━━━\u001b[0m\u001b[37m\u001b[0m \u001b[1m1s\u001b[0m 18ms/step - accuracy: 0.5122 - loss: 1.7297\n",
            "Validation loss: 1.7294 | accuracy: 0.5126\n"
          ]
        }
      ]
    },
    {
      "cell_type": "code",
      "source": [
        "import tensorflow as tf\n",
        "import numpy as np\n",
        "import json\n",
        "\n",
        "# load id_to_token mapping\n",
        "with open(\"/content/id_to_token.json\", \"r\", encoding=\"utf-8\") as f:\n",
        "    id_to_token = json.load(f)\n",
        "    id_to_token = {int(k): v for k, v in id_to_token.items()}\n",
        "\n",
        "# function to decode token ids\n",
        "def decode_seq(seq):\n",
        "    return [id_to_token.get(int(tok), \"<UNK>\") for tok in seq if int(tok) != 0]\n",
        "\n",
        "# store metrics\n",
        "total_tokens = 0\n",
        "correct_tokens = 0\n",
        "total_sequences = 0\n",
        "exact_matches = 0\n",
        "\n",
        "# loop through validation dataset\n",
        "for batch_images, batch_labels in valid_dataset:\n",
        "    preds = model.predict(batch_images)\n",
        "    pred_ids = tf.argmax(preds, axis=-1).numpy()\n",
        "    true_ids = batch_labels.numpy()\n",
        "\n",
        "    for pred_seq, true_seq in zip(pred_ids, true_ids):\n",
        "        # decode predicted and true token sequences\n",
        "        pred_decoded = decode_seq(pred_seq)\n",
        "        true_decoded = decode_seq(true_seq)\n",
        "\n",
        "        # pad to same length\n",
        "        max_len = max(len(pred_decoded), len(true_decoded))\n",
        "        pred_decoded += [\"<PAD>\"] * (max_len - len(pred_decoded))\n",
        "        true_decoded += [\"<PAD>\"] * (max_len - len(true_decoded))\n",
        "\n",
        "        # token-level accuracy\n",
        "        for p, t in zip(pred_decoded, true_decoded):\n",
        "            total_tokens += 1\n",
        "            if p == t:\n",
        "                correct_tokens += 1\n",
        "\n",
        "        # exact match\n",
        "        total_sequences += 1\n",
        "        if pred_decoded == true_decoded:\n",
        "            exact_matches += 1\n",
        "\n",
        "# final results\n",
        "token_accuracy = correct_tokens / total_tokens\n",
        "sequence_accuracy = exact_matches / total_sequences\n",
        "\n",
        "print(f\"Token-level accuracy: {token_accuracy:.4f}\")\n",
        "print(f\"Exact match accuracy: {sequence_accuracy:.4f}\")\n"
      ],
      "metadata": {
        "colab": {
          "base_uri": "https://localhost:8080/"
        },
        "id": "Ie20W4EW_rtV",
        "outputId": "9cb3d3b7-db9c-4050-8ee6-e018879cda42"
      },
      "execution_count": 13,
      "outputs": [
        {
          "output_type": "stream",
          "name": "stdout",
          "text": [
            "\u001b[1m1/1\u001b[0m \u001b[32m━━━━━━━━━━━━━━━━━━━━\u001b[0m\u001b[37m\u001b[0m \u001b[1m0s\u001b[0m 45ms/step\n",
            "\u001b[1m1/1\u001b[0m \u001b[32m━━━━━━━━━━━━━━━━━━━━\u001b[0m\u001b[37m\u001b[0m \u001b[1m0s\u001b[0m 48ms/step\n",
            "\u001b[1m1/1\u001b[0m \u001b[32m━━━━━━━━━━━━━━━━━━━━\u001b[0m\u001b[37m\u001b[0m \u001b[1m0s\u001b[0m 46ms/step\n",
            "\u001b[1m1/1\u001b[0m \u001b[32m━━━━━━━━━━━━━━━━━━━━\u001b[0m\u001b[37m\u001b[0m \u001b[1m0s\u001b[0m 44ms/step\n",
            "\u001b[1m1/1\u001b[0m \u001b[32m━━━━━━━━━━━━━━━━━━━━\u001b[0m\u001b[37m\u001b[0m \u001b[1m0s\u001b[0m 44ms/step\n",
            "\u001b[1m1/1\u001b[0m \u001b[32m━━━━━━━━━━━━━━━━━━━━\u001b[0m\u001b[37m\u001b[0m \u001b[1m0s\u001b[0m 49ms/step\n",
            "\u001b[1m1/1\u001b[0m \u001b[32m━━━━━━━━━━━━━━━━━━━━\u001b[0m\u001b[37m\u001b[0m \u001b[1m0s\u001b[0m 50ms/step\n",
            "\u001b[1m1/1\u001b[0m \u001b[32m━━━━━━━━━━━━━━━━━━━━\u001b[0m\u001b[37m\u001b[0m \u001b[1m0s\u001b[0m 43ms/step\n",
            "\u001b[1m1/1\u001b[0m \u001b[32m━━━━━━━━━━━━━━━━━━━━\u001b[0m\u001b[37m\u001b[0m \u001b[1m0s\u001b[0m 43ms/step\n",
            "\u001b[1m1/1\u001b[0m \u001b[32m━━━━━━━━━━━━━━━━━━━━\u001b[0m\u001b[37m\u001b[0m \u001b[1m0s\u001b[0m 46ms/step\n",
            "\u001b[1m1/1\u001b[0m \u001b[32m━━━━━━━━━━━━━━━━━━━━\u001b[0m\u001b[37m\u001b[0m \u001b[1m0s\u001b[0m 43ms/step\n",
            "\u001b[1m1/1\u001b[0m \u001b[32m━━━━━━━━━━━━━━━━━━━━\u001b[0m\u001b[37m\u001b[0m \u001b[1m0s\u001b[0m 53ms/step\n",
            "\u001b[1m1/1\u001b[0m \u001b[32m━━━━━━━━━━━━━━━━━━━━\u001b[0m\u001b[37m\u001b[0m \u001b[1m0s\u001b[0m 43ms/step\n",
            "\u001b[1m1/1\u001b[0m \u001b[32m━━━━━━━━━━━━━━━━━━━━\u001b[0m\u001b[37m\u001b[0m \u001b[1m0s\u001b[0m 44ms/step\n",
            "\u001b[1m1/1\u001b[0m \u001b[32m━━━━━━━━━━━━━━━━━━━━\u001b[0m\u001b[37m\u001b[0m \u001b[1m0s\u001b[0m 59ms/step\n",
            "\u001b[1m1/1\u001b[0m \u001b[32m━━━━━━━━━━━━━━━━━━━━\u001b[0m\u001b[37m\u001b[0m \u001b[1m0s\u001b[0m 59ms/step\n",
            "\u001b[1m1/1\u001b[0m \u001b[32m━━━━━━━━━━━━━━━━━━━━\u001b[0m\u001b[37m\u001b[0m \u001b[1m0s\u001b[0m 54ms/step\n",
            "\u001b[1m1/1\u001b[0m \u001b[32m━━━━━━━━━━━━━━━━━━━━\u001b[0m\u001b[37m\u001b[0m \u001b[1m0s\u001b[0m 58ms/step\n",
            "\u001b[1m1/1\u001b[0m \u001b[32m━━━━━━━━━━━━━━━━━━━━\u001b[0m\u001b[37m\u001b[0m \u001b[1m0s\u001b[0m 60ms/step\n",
            "\u001b[1m1/1\u001b[0m \u001b[32m━━━━━━━━━━━━━━━━━━━━\u001b[0m\u001b[37m\u001b[0m \u001b[1m0s\u001b[0m 58ms/step\n",
            "\u001b[1m1/1\u001b[0m \u001b[32m━━━━━━━━━━━━━━━━━━━━\u001b[0m\u001b[37m\u001b[0m \u001b[1m0s\u001b[0m 66ms/step\n",
            "\u001b[1m1/1\u001b[0m \u001b[32m━━━━━━━━━━━━━━━━━━━━\u001b[0m\u001b[37m\u001b[0m \u001b[1m0s\u001b[0m 60ms/step\n",
            "\u001b[1m1/1\u001b[0m \u001b[32m━━━━━━━━━━━━━━━━━━━━\u001b[0m\u001b[37m\u001b[0m \u001b[1m0s\u001b[0m 58ms/step\n",
            "\u001b[1m1/1\u001b[0m \u001b[32m━━━━━━━━━━━━━━━━━━━━\u001b[0m\u001b[37m\u001b[0m \u001b[1m0s\u001b[0m 65ms/step\n",
            "\u001b[1m1/1\u001b[0m \u001b[32m━━━━━━━━━━━━━━━━━━━━\u001b[0m\u001b[37m\u001b[0m \u001b[1m0s\u001b[0m 60ms/step\n",
            "\u001b[1m1/1\u001b[0m \u001b[32m━━━━━━━━━━━━━━━━━━━━\u001b[0m\u001b[37m\u001b[0m \u001b[1m0s\u001b[0m 61ms/step\n",
            "\u001b[1m1/1\u001b[0m \u001b[32m━━━━━━━━━━━━━━━━━━━━\u001b[0m\u001b[37m\u001b[0m \u001b[1m0s\u001b[0m 62ms/step\n",
            "\u001b[1m1/1\u001b[0m \u001b[32m━━━━━━━━━━━━━━━━━━━━\u001b[0m\u001b[37m\u001b[0m \u001b[1m0s\u001b[0m 63ms/step\n",
            "\u001b[1m1/1\u001b[0m \u001b[32m━━━━━━━━━━━━━━━━━━━━\u001b[0m\u001b[37m\u001b[0m \u001b[1m0s\u001b[0m 65ms/step\n",
            "\u001b[1m1/1\u001b[0m \u001b[32m━━━━━━━━━━━━━━━━━━━━\u001b[0m\u001b[37m\u001b[0m \u001b[1m0s\u001b[0m 58ms/step\n",
            "\u001b[1m1/1\u001b[0m \u001b[32m━━━━━━━━━━━━━━━━━━━━\u001b[0m\u001b[37m\u001b[0m \u001b[1m1s\u001b[0m 519ms/step\n",
            "Token-level accuracy: 0.5126\n",
            "Exact match accuracy: 0.0000\n"
          ]
        }
      ]
    },
    {
      "cell_type": "code",
      "source": [
        "import numpy as np\n",
        "import tensorflow as tf\n",
        "\n",
        "# decode list of token ids\n",
        "def decode_tokens(token_ids, id_to_token):\n",
        "    return [id_to_token.get(int(tok), \"<UNK>\") for tok in token_ids if int(tok) != 0]\n",
        "\n",
        "# beam search decoder\n",
        "def beam_search_decoder(predictions, beam_width=3):\n",
        "    # predictions: (timesteps, vocab_size)\n",
        "    sequences = [[list(), 0.0]]  # (tokens, score)\n",
        "\n",
        "    for t in range(predictions.shape[0]):\n",
        "        all_candidates = []\n",
        "        for seq, score in sequences:\n",
        "            for i in range(predictions.shape[1]):\n",
        "                candidate_seq = seq + [i]\n",
        "                candidate_score = score - np.log(predictions[t, i] + 1e-9)\n",
        "                all_candidates.append([candidate_seq, candidate_score])\n",
        "        # sort and keep top-k sequences\n",
        "        ordered = sorted(all_candidates, key=lambda tup: tup[1])\n",
        "        sequences = ordered[:beam_width]\n",
        "\n",
        "    # return best sequence\n",
        "    return sequences[0][0]\n",
        "\n",
        "# preview predictions with beam search\n",
        "def preview_with_beam(valid_dataset, model, id_to_token, num_samples=5, beam_width=3):\n",
        "    for images, labels in valid_dataset.take(1):\n",
        "        preds = model.predict(images)\n",
        "\n",
        "        for i in range(num_samples):\n",
        "            image = images[i].numpy().squeeze()\n",
        "            label_ids = labels[i].numpy()\n",
        "            true_label = decode_tokens(label_ids, id_to_token)\n",
        "\n",
        "            pred_probs = preds[i]  # shape: (timesteps, vocab_size)\n",
        "            pred_ids = beam_search_decoder(pred_probs, beam_width=beam_width)\n",
        "            pred_label = decode_tokens(pred_ids, id_to_token)\n",
        "\n",
        "            # display image and prediction\n",
        "            import matplotlib.pyplot as plt\n",
        "            plt.imshow(image, cmap='gray')\n",
        "            plt.axis('off')\n",
        "            plt.title(f\"True: {' '.join(true_label)}\\nBeam: {' '.join(pred_label)}\")\n",
        "            plt.show()\n",
        "preview_with_beam(valid_dataset, model, id_to_token, num_samples=5, beam_width=3)\n"
      ],
      "metadata": {
        "colab": {
          "base_uri": "https://localhost:8080/",
          "height": 1000
        },
        "id": "msss8_GdJGEK",
        "outputId": "4d1f39ab-e38d-4183-8584-904f43916456"
      },
      "execution_count": 14,
      "outputs": [
        {
          "output_type": "stream",
          "name": "stdout",
          "text": [
            "\u001b[1m1/1\u001b[0m \u001b[32m━━━━━━━━━━━━━━━━━━━━\u001b[0m\u001b[37m\u001b[0m \u001b[1m0s\u001b[0m 66ms/step\n"
          ]
        },
        {
          "output_type": "display_data",
          "data": {
            "text/plain": [
              "<Figure size 640x480 with 1 Axes>"
            ],
            "image/png": "[encoded data removed]"
          },
          "metadata": {}
        },
        {
          "output_type": "display_data",
          "data": {
            "text/plain": [
              "<Figure size 640x480 with 1 Axes>"
            ],
            "image/png": "[encoded data removed]"
          },
          "metadata": {}
        },
        {
          "output_type": "display_data",
          "data": {
            "text/plain": [
              "<Figure size 640x480 with 1 Axes>"
            ],
            "image/png": "[encoded data removed]"
          },
          "metadata": {}
        },
        {
          "output_type": "display_data",
          "data": {
            "text/plain": [
              "<Figure size 640x480 with 1 Axes>"
            ],
            "image/png": "[encoded data removed]"
          },
          "metadata": {}
        },
        {
          "output_type": "display_data",
          "data": {
            "text/plain": [
              "<Figure size 640x480 with 1 Axes>"
            ],
            "image/png": "[encoded data removed]"
          },
          "metadata": {}
        }
      ]
    }
  ],
  "metadata": {
    "colab": {
      "provenance": [],
      "gpuType": "T4"
    },
    "kernelspec": {
      "display_name": "Python 3",
      "name": "python3"
    },
    "language_info": {
      "codemirror_mode": {
        "name": "ipython",
        "version": 3
      },
      "file_extension": ".py",
      "mimetype": "text/x-python",
      "name": "python",
      "nbconvert_exporter": "python",
      "pygments_lexer": "ipython3",
      "version": "3.12.4"
    },
    "accelerator": "GPU"
  },
  "nbformat": 4,
  "nbformat_minor": 0
}